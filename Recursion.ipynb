{
  "nbformat": 4,
  "nbformat_minor": 0,
  "metadata": {
    "colab": {
      "provenance": [],
      "authorship_tag": "ABX9TyNfRtgOHbUnCdExAAiRA54u",
      "include_colab_link": true
    },
    "kernelspec": {
      "name": "python3",
      "display_name": "Python 3"
    },
    "language_info": {
      "name": "python"
    }
  },
  "cells": [
    {
      "cell_type": "markdown",
      "metadata": {
        "id": "view-in-github",
        "colab_type": "text"
      },
      "source": [
        "<a href=\"https://colab.research.google.com/github/dinhquy-nguyen-1704/Data_Strcutures_And_Algorithms/blob/main/Recursion.ipynb\" target=\"_parent\"><img src=\"https://colab.research.google.com/assets/colab-badge.svg\" alt=\"Open In Colab\"/></a>"
      ]
    },
    {
      "cell_type": "markdown",
      "source": [
        "###countDown"
      ],
      "metadata": {
        "id": "YjCg5ANMzdsG"
      }
    },
    {
      "cell_type": "code",
      "execution_count": null,
      "metadata": {
        "id": "oVHbc5lJxgbY"
      },
      "outputs": [],
      "source": [
        "def countDown(n):\n",
        "    if n > 0:\n",
        "        print(n)\n",
        "        countDown(n-1)"
      ]
    },
    {
      "cell_type": "code",
      "source": [
        "countDown(5)"
      ],
      "metadata": {
        "colab": {
          "base_uri": "https://localhost:8080/"
        },
        "id": "BjOaju-7x2IA",
        "outputId": "3340746b-f2e7-4edc-b62e-87c8411ab152"
      },
      "execution_count": null,
      "outputs": [
        {
          "output_type": "stream",
          "name": "stdout",
          "text": [
            "5\n",
            "4\n",
            "3\n",
            "2\n",
            "1\n"
          ]
        }
      ]
    },
    {
      "cell_type": "markdown",
      "source": [
        "###binarySearch"
      ],
      "metadata": {
        "id": "ozpq1a-GzgdK"
      }
    },
    {
      "cell_type": "code",
      "source": [
        "def binarySearch(A, left, right, K):\n",
        "    if left == right:\n",
        "        if A[left] == K:\n",
        "            return left\n",
        "        else:\n",
        "            return -1\n",
        "    else:\n",
        "        mid = (left + right)//2\n",
        "        if A[mid] == K:\n",
        "            return mid\n",
        "        else:\n",
        "            if A[mid] < K:\n",
        "                return binarySearch(A, mid+1, right, K)\n",
        "            else:\n",
        "                return binarySearch(A, left, mid-1, K)"
      ],
      "metadata": {
        "id": "FJYVq4czx3zA"
      },
      "execution_count": null,
      "outputs": []
    },
    {
      "cell_type": "code",
      "source": [
        "A = [0, 1 ,3, 4, 5, 7, 10, 17]\n",
        "K = 5\n",
        "n = len(A)\n",
        "print(binarySearch(A, 0, n-1, K))"
      ],
      "metadata": {
        "colab": {
          "base_uri": "https://localhost:8080/"
        },
        "id": "pxxNcH3F09HV",
        "outputId": "0612ca82-c3f0-4536-d12f-8b688729e9e7"
      },
      "execution_count": null,
      "outputs": [
        {
          "output_type": "stream",
          "name": "stdout",
          "text": [
            "4\n"
          ]
        }
      ]
    },
    {
      "cell_type": "markdown",
      "source": [
        "###Greatest common divisor"
      ],
      "metadata": {
        "id": "C--VOVma4EPh"
      }
    },
    {
      "cell_type": "code",
      "source": [
        "def gcd(a, b):\n",
        "    if b == 0:\n",
        "        return a\n",
        "    else:\n",
        "      return gcd(b, a%b)"
      ],
      "metadata": {
        "id": "UGuCCBQW4F_l"
      },
      "execution_count": null,
      "outputs": []
    },
    {
      "cell_type": "code",
      "source": [
        "gcd(5, 2)"
      ],
      "metadata": {
        "id": "QtmBkPCf4UfE",
        "outputId": "999833e2-b3d9-4df5-b678-3a88c6a89010",
        "colab": {
          "base_uri": "https://localhost:8080/"
        }
      },
      "execution_count": null,
      "outputs": [
        {
          "output_type": "execute_result",
          "data": {
            "text/plain": [
              "1"
            ]
          },
          "metadata": {},
          "execution_count": 9
        }
      ]
    },
    {
      "cell_type": "markdown",
      "source": [
        "###insertionSort"
      ],
      "metadata": {
        "id": "okAa2cCg9u7P"
      }
    },
    {
      "cell_type": "code",
      "source": [
        "def insertionSort(A, k):\n",
        "    j = k\n",
        "    while j > 0 and A[j] < A[j-1]:\n",
        "        A[j], A[j-1] = A[j-1], A[j]\n",
        "        j = j - 1\n",
        "    if k < len(A) - 1:\n",
        "        insertionSort(A, k+1)"
      ],
      "metadata": {
        "id": "c0CeE2za4Wgi"
      },
      "execution_count": null,
      "outputs": []
    },
    {
      "cell_type": "code",
      "source": [
        "A = [1, 3, 2, 5, 4]\n",
        "insertionSort(A, 1)\n",
        "A"
      ],
      "metadata": {
        "colab": {
          "base_uri": "https://localhost:8080/"
        },
        "id": "yFXPDM6M7Oon",
        "outputId": "ce52ddad-4459-4d74-c925-2bc6dfed4a43"
      },
      "execution_count": null,
      "outputs": [
        {
          "output_type": "execute_result",
          "data": {
            "text/plain": [
              "[1, 2, 3, 4, 5]"
            ]
          },
          "metadata": {},
          "execution_count": 7
        }
      ]
    },
    {
      "cell_type": "markdown",
      "source": [
        "###selectionSort"
      ],
      "metadata": {
        "id": "hs0JYJJW9zMC"
      }
    },
    {
      "cell_type": "code",
      "source": [
        "def selectionSort(A, k):\n",
        "    if k < len(A) - 1:\n",
        "        imin = k\n",
        "        for j in range(k+1, len(A)):\n",
        "            if A[j] < A[imin]:\n",
        "                imin = j\n",
        "        A[k], A[imin] = A[imin], A[k]\n",
        "        selectionSort(A, k+1)"
      ],
      "metadata": {
        "id": "TTLUh2aS7U_9"
      },
      "execution_count": null,
      "outputs": []
    },
    {
      "cell_type": "code",
      "source": [
        "A = [1, 3, 2, 5, 4]\n",
        "selectionSort(A, 0)\n",
        "A"
      ],
      "metadata": {
        "colab": {
          "base_uri": "https://localhost:8080/"
        },
        "id": "Yzqm_5NA8u_M",
        "outputId": "076ab2cc-6d75-4e7d-ac7a-a636821ce853"
      },
      "execution_count": null,
      "outputs": [
        {
          "output_type": "execute_result",
          "data": {
            "text/plain": [
              "[1, 2, 3, 4, 5]"
            ]
          },
          "metadata": {},
          "execution_count": 16
        }
      ]
    },
    {
      "cell_type": "markdown",
      "source": [
        "###Generate all permutations according to minimal change"
      ],
      "metadata": {
        "id": "6KAaiElpT8at"
      }
    },
    {
      "cell_type": "code",
      "source": [
        "def insertAll(A, n):\n",
        "    new_list = []\n",
        "    k = len(A)\n",
        "    for i in range(k+1):\n",
        "        B = A.copy()\n",
        "        B.insert(i, n)\n",
        "        new_list.append(B)\n",
        "    return new_list"
      ],
      "metadata": {
        "id": "bgWR_4Xs80ko"
      },
      "execution_count": null,
      "outputs": []
    },
    {
      "cell_type": "code",
      "source": [
        "def permutation(n):\n",
        "    if n == 1:\n",
        "        return [[1]]\n",
        "    else:\n",
        "        new = []\n",
        "        A = permutation(n-1)\n",
        "        for p in A:\n",
        "            new += insertAll(p, n)\n",
        "        return new"
      ],
      "metadata": {
        "id": "Ulkt-g_hXjjE"
      },
      "execution_count": null,
      "outputs": []
    },
    {
      "cell_type": "code",
      "source": [
        "permutation(3)"
      ],
      "metadata": {
        "colab": {
          "base_uri": "https://localhost:8080/"
        },
        "id": "-B88DpBnZWzd",
        "outputId": "80e3f345-6a4e-4428-e1c9-f0ffb9c46c82"
      },
      "execution_count": null,
      "outputs": [
        {
          "output_type": "execute_result",
          "data": {
            "text/plain": [
              "[[3, 2, 1], [2, 3, 1], [2, 1, 3], [3, 1, 2], [1, 3, 2], [1, 2, 3]]"
            ]
          },
          "metadata": {},
          "execution_count": 29
        }
      ]
    },
    {
      "cell_type": "markdown",
      "source": [
        "###Generate all permutations by changing position"
      ],
      "metadata": {
        "id": "Ra6csQi9vxnv"
      }
    },
    {
      "cell_type": "code",
      "source": [
        "def permute(A, k):\n",
        "    A = A.copy()\n",
        "    if k == n-1:\n",
        "        print(A)\n",
        "    else:\n",
        "        for i in range(k, n):\n",
        "            A[k], A[i] = A[i], A[k]\n",
        "            permute(A, k+1)"
      ],
      "metadata": {
        "id": "izGsrWM1v5cT"
      },
      "execution_count": 3,
      "outputs": []
    },
    {
      "cell_type": "code",
      "source": [
        "A = [1, 2, 3, 4]\n",
        "n = len(A)\n",
        "permute(A, 0)"
      ],
      "metadata": {
        "colab": {
          "base_uri": "https://localhost:8080/"
        },
        "id": "4or-NRLgwTvf",
        "outputId": "bba899e4-9425-4779-a485-e2df025843d8"
      },
      "execution_count": 7,
      "outputs": [
        {
          "output_type": "stream",
          "name": "stdout",
          "text": [
            "[1, 2, 3, 4]\n",
            "[1, 2, 4, 3]\n",
            "[1, 3, 2, 4]\n",
            "[1, 3, 4, 2]\n",
            "[1, 4, 2, 3]\n",
            "[1, 4, 3, 2]\n",
            "[2, 1, 3, 4]\n",
            "[2, 1, 4, 3]\n",
            "[2, 3, 1, 4]\n",
            "[2, 3, 4, 1]\n",
            "[2, 4, 1, 3]\n",
            "[2, 4, 3, 1]\n",
            "[3, 1, 2, 4]\n",
            "[3, 1, 4, 2]\n",
            "[3, 2, 1, 4]\n",
            "[3, 2, 4, 1]\n",
            "[3, 4, 1, 2]\n",
            "[3, 4, 2, 1]\n",
            "[4, 1, 2, 3]\n",
            "[4, 1, 3, 2]\n",
            "[4, 2, 1, 3]\n",
            "[4, 2, 3, 1]\n",
            "[4, 3, 1, 2]\n",
            "[4, 3, 2, 1]\n"
          ]
        }
      ]
    },
    {
      "cell_type": "code",
      "source": [],
      "metadata": {
        "id": "SHsJWOtrwXv4"
      },
      "execution_count": null,
      "outputs": []
    }
  ]
}