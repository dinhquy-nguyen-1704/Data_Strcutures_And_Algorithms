{
  "nbformat": 4,
  "nbformat_minor": 0,
  "metadata": {
    "colab": {
      "provenance": [],
      "authorship_tag": "ABX9TyNK9jbV0YiO0df4iOky/Epe",
      "include_colab_link": true
    },
    "kernelspec": {
      "name": "python3",
      "display_name": "Python 3"
    },
    "language_info": {
      "name": "python"
    }
  },
  "cells": [
    {
      "cell_type": "markdown",
      "metadata": {
        "id": "view-in-github",
        "colab_type": "text"
      },
      "source": [
        "<a href=\"https://colab.research.google.com/github/dinhquy-nguyen-1704/Data_Strcutures_And_Algorithms/blob/main/Search.ipynb\" target=\"_parent\"><img src=\"https://colab.research.google.com/assets/colab-badge.svg\" alt=\"Open In Colab\"/></a>"
      ]
    },
    {
      "cell_type": "markdown",
      "source": [
        "###linearSearch"
      ],
      "metadata": {
        "id": "DN1JOoTRRHG2"
      }
    },
    {
      "cell_type": "code",
      "execution_count": 1,
      "metadata": {
        "id": "x8EvxXcmRDoa"
      },
      "outputs": [],
      "source": [
        "def linearSearch(A, k):\n",
        "    n = len(A)\n",
        "    for i in range(n):\n",
        "        if A[i] == k:\n",
        "            return i\n",
        "    return -1"
      ]
    },
    {
      "cell_type": "code",
      "source": [
        "linearSearch([1, 3, 4, 2, 5], 4)"
      ],
      "metadata": {
        "colab": {
          "base_uri": "https://localhost:8080/"
        },
        "id": "8yo_yiizRaqt",
        "outputId": "ab4b889e-995d-4fbd-82d3-8422c12f3f2e"
      },
      "execution_count": 2,
      "outputs": [
        {
          "output_type": "execute_result",
          "data": {
            "text/plain": [
              "2"
            ]
          },
          "metadata": {},
          "execution_count": 2
        }
      ]
    },
    {
      "cell_type": "code",
      "source": [
        "def binarySearch(A, k):\n",
        "    left = 0\n",
        "    right = len(A) - 1\n",
        "    while left <= right:\n",
        "        mid = (left+right)//2\n",
        "        if A[mid] == k:\n",
        "            return mid\n",
        "        elif A[mid] > k:\n",
        "            right = mid - 1\n",
        "        else:\n",
        "            left = mid + 1\n",
        "    return -1"
      ],
      "metadata": {
        "id": "7kpVEawaRe9l"
      },
      "execution_count": 4,
      "outputs": []
    },
    {
      "cell_type": "code",
      "source": [
        "binarySearch([1, 3, 5, 6, 7], 5)"
      ],
      "metadata": {
        "colab": {
          "base_uri": "https://localhost:8080/"
        },
        "id": "2LEDz0dqR4cH",
        "outputId": "677c967e-8167-4592-b74c-f1ede0ec328b"
      },
      "execution_count": 5,
      "outputs": [
        {
          "output_type": "execute_result",
          "data": {
            "text/plain": [
              "2"
            ]
          },
          "metadata": {},
          "execution_count": 5
        }
      ]
    }
  ]
}