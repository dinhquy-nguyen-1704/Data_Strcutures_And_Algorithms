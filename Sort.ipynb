{
  "nbformat": 4,
  "nbformat_minor": 0,
  "metadata": {
    "colab": {
      "provenance": [],
      "authorship_tag": "ABX9TyMS7aQypwXEm64FoLjGTgbJ",
      "include_colab_link": true
    },
    "kernelspec": {
      "name": "python3",
      "display_name": "Python 3"
    },
    "language_info": {
      "name": "python"
    }
  },
  "cells": [
    {
      "cell_type": "markdown",
      "metadata": {
        "id": "view-in-github",
        "colab_type": "text"
      },
      "source": [
        "<a href=\"https://colab.research.google.com/github/dinhquy-nguyen-1704/Data_Strcutures_And_Algorithms/blob/main/Sort.ipynb\" target=\"_parent\"><img src=\"https://colab.research.google.com/assets/colab-badge.svg\" alt=\"Open In Colab\"/></a>"
      ]
    },
    {
      "cell_type": "markdown",
      "source": [
        "### insertionSort"
      ],
      "metadata": {
        "id": "HG7tLKDEL9pC"
      }
    },
    {
      "cell_type": "code",
      "execution_count": null,
      "metadata": {
        "id": "WlQQLBKhLq2G"
      },
      "outputs": [],
      "source": [
        "def insertionSort(A):\n",
        "    for i in range(1, len(A)):\n",
        "        j = i\n",
        "\n",
        "        while j > 0 and A[j] < A[j-1]:\n",
        "            A[j], A[j-1] = A[j-1], A[j]\n",
        "            j = j - 1\n",
        "\n",
        "    return A"
      ]
    },
    {
      "cell_type": "code",
      "source": [
        "insertionSort([1, 3, 4, 2, 5])"
      ],
      "metadata": {
        "colab": {
          "base_uri": "https://localhost:8080/"
        },
        "id": "VXZeTqPoM2RQ",
        "outputId": "d3af0de5-06dc-4423-8db8-a64df5ceb3a9"
      },
      "execution_count": null,
      "outputs": [
        {
          "output_type": "execute_result",
          "data": {
            "text/plain": [
              "[1, 2, 3, 4, 5]"
            ]
          },
          "metadata": {},
          "execution_count": 2
        }
      ]
    },
    {
      "cell_type": "markdown",
      "source": [
        "###selectionSort"
      ],
      "metadata": {
        "id": "0O5Cf7hXNFRW"
      }
    },
    {
      "cell_type": "code",
      "source": [
        "def selectionSort(A):\n",
        "    n = len(A)\n",
        "    for i in range(n-1):\n",
        "        imin = i\n",
        "\n",
        "        for j in range(i+1, n):\n",
        "            if A[j] < A[i]:\n",
        "                imin = j\n",
        "\n",
        "        A[i], A[imin] = A[imin], A[i]\n",
        "\n",
        "    return A"
      ],
      "metadata": {
        "id": "EtEAMULZM6OD"
      },
      "execution_count": null,
      "outputs": []
    },
    {
      "cell_type": "code",
      "source": [
        "selectionSort([1, 3, 2, 5, 4])"
      ],
      "metadata": {
        "colab": {
          "base_uri": "https://localhost:8080/"
        },
        "id": "FXVJxGS4OqqF",
        "outputId": "e0890e1e-0f5c-4cf0-9998-4d383ae5c8f7"
      },
      "execution_count": null,
      "outputs": [
        {
          "output_type": "execute_result",
          "data": {
            "text/plain": [
              "[1, 2, 3, 4, 5]"
            ]
          },
          "metadata": {},
          "execution_count": 4
        }
      ]
    },
    {
      "cell_type": "markdown",
      "source": [
        "###bubbleSort"
      ],
      "metadata": {
        "id": "MHNzFSCrQfD1"
      }
    },
    {
      "cell_type": "code",
      "source": [
        "def bubbleSort(A):\n",
        "    n = len(A)\n",
        "    for i in range(n-1):\n",
        "        for j in range(n-1-i):\n",
        "            if A[j] > A[j+1]:\n",
        "                A[j], A[j+1] = A[j+1], A[j]\n",
        "\n",
        "    return A"
      ],
      "metadata": {
        "id": "pEkYSGdzOtsS"
      },
      "execution_count": null,
      "outputs": []
    },
    {
      "cell_type": "code",
      "source": [
        "bubbleSort([1, 3, 2, 5, 4])"
      ],
      "metadata": {
        "colab": {
          "base_uri": "https://localhost:8080/"
        },
        "id": "AsDYR2GwR1I1",
        "outputId": "7b0d30db-87fb-47c5-a273-7b37beb95a80"
      },
      "execution_count": null,
      "outputs": [
        {
          "output_type": "execute_result",
          "data": {
            "text/plain": [
              "[1, 2, 3, 4, 5]"
            ]
          },
          "metadata": {},
          "execution_count": 6
        }
      ]
    }
  ]
}